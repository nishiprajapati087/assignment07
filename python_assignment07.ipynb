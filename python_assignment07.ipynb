{
  "nbformat": 4,
  "nbformat_minor": 0,
  "metadata": {
    "colab": {
      "provenance": []
    },
    "kernelspec": {
      "name": "python3",
      "display_name": "Python 3"
    },
    "language_info": {
      "name": "python"
    }
  },
  "cells": [
    {
      "cell_type": "markdown",
      "source": [
        "# Restful API & Flask"
      ],
      "metadata": {
        "id": "l_OP7yV00lZ3"
      }
    },
    {
      "cell_type": "markdown",
      "source": [
        "1. What is a RESTful API?\n",
        "\n",
        "   -> A RESTful API (Representational State Transfer API) is a way for different software applications to communicate with each other over the internet using standard HTTP methods.\n",
        "\n",
        "2. Explain the concept of API specification.\n",
        "\n",
        "   -> An API specification is a formal, structured description of how an API behaves and how developers can interact with it. It defines the rules, endpoints, request/response formats, and authentication methods for the API — essentially, it's the contract between the API provider and the API consumer.\n",
        "\n",
        "3. What is Flask, and why is it popular for building APIs?\n",
        "\n",
        "   -> Flask is a lightweight and flexible web framework written in Python. It’s especially popular for building RESTful APIs and small-to-medium web applications.\n",
        "\n",
        "4. What is routing in Flask?\n",
        "    \n",
        "   -> Routing in Flask refers to mapping URLs (routes) to functions in your application that handle requests. These functions are called view functions.\n",
        "\n",
        "5. How do you create a simple Flask application?\n",
        "\n",
        "   -> Creating a simple Flask application involves a few key steps:\n",
        "\n",
        "- Set up your environment\n",
        "- Create your Flask application file\n",
        "- Write the Flask code\n",
        "\n",
        "6. What are HTTP methods used in RESTful APIs?\n",
        "\n",
        "   -> RESTful APIs leverage standard HTTP methods to perform operations on resources, aligning with the principles of Representational State Transfer. The most commonly used methods, often corresponding to CRUD (Create, Read, Update, Delete) operations, are:\n",
        "\n",
        "- GET: Used to retrieve data or a representation of a resource from the server. It should not have side effects on the server.\n",
        "\n",
        "- POST: Used to submit data to the server, typically to create a new resource.\n",
        "\n",
        "- PUT: Used to update or replace an existing resource with the provided data. If the resource does not exist, it may create it.\n",
        "\n",
        "- DELETE: Used to remove a specific resource from the server.\n",
        "\n",
        "- PATCH: Used to apply partial modifications to a resource. Unlike PUT, it only sends the changes to be applied, not the entire resource.\n",
        "\n",
        "7. What is the purpose of the @app.route() decorator in Flask?\n",
        "\n",
        "   -> The @app.route() decorator in Flask is used to map a specific URL to a Python function. When a user navigates to that URL in their web browser, the decorated function is executed, and its return value is sent back as the response.\n",
        "\n",
        "8. What is the difference between GET and POST HTTP methods?\n",
        "\n",
        "   ->\n",
        "     - Use GET for retrieving data. It is ideal for search queries, filtering results, and navigating to specific pages, as the state of the server is not changed.\n",
        "    \n",
        "  - Use POST for submitting data. It is the correct choice for submitting forms, uploading files, or any action that will create or modify data on the server.\n",
        "\n",
        "9. How do you handle errors in Flask APIs?\n",
        "\n",
        "   -> Here's a brief summary of how to handle errors in Flask APIs:\n",
        "\n",
        "- Use @app.errorhandler() to catch HTTP errors and exceptions. Register a function for specific HTTP status codes (e.g., 404) or Python exception classes (e.g., Exception). This function will be executed whenever that error occurs.\n",
        "\n",
        "- Manually raise HTTP errors with abort(). Call Flask's abort() function with a status code (e.g., abort(404)) to trigger the corresponding error handler. This is useful for validation errors.\n",
        "\n",
        "- Return JSON responses instead of HTML. Within your error handlers, use jsonify() to return a structured JSON object containing an error message and the correct HTTP status code, ensuring a consistent API response format.\n",
        "\n",
        "- Create custom exceptions for API logic. For more specific errors, define your own exception classes. This improves code organization and allows you to catch and handle different error types distinctively.\n",
        "\n",
        "10.  How do you connect Flask to a SQL database?\n",
        "\n",
        "     -> To connect Flask to a SQL database, you typically use an ORM (Object-Relational Mapper) like SQLAlchemy or a database driver directly (e.g., sqlite3, psycopg2, or mysqlclient).\n",
        "\n",
        "     Step 1: Install dependencies\n",
        "     Step 2: Configure Flask app with database\n",
        "     Step 3: Define models (tables)\n",
        "     Step 4: Create database and tables\n",
        "     Step 5: Insert & query data\n",
        "\n",
        "11. What is the role of Flask-SQLAlchemy?\n",
        "\n",
        "     -> The role of Flask-SQLAlchemy is to make working with databases in Flask much easier by acting as a bridge between Flask and SQLAlchemy.\n",
        "\n",
        "12. What are Flask blueprints, and how are they useful?\n",
        "\n",
        "     -> A Flask blueprint is a way to organize a Flask application into modular, reusable components. It encapsulates a collection of views, templates, static files, and other functionality related to a specific part of the application, such as user authentication or a blog. This modularity is particularly useful for building larger, more complex applications.\n",
        "\n",
        "13. What is the purpose of Flask's request object?\n",
        "\n",
        "     -> The request object in Flask is a proxy for the incoming HTTP request from a client. Its primary purpose is to provide access to the data and information sent with that request, allowing your Flask application to interact with the client.\n",
        "\n",
        "The request object holds everything from the request URL and headers to form data, uploaded files, and cookies.\n",
        "\n",
        "14. How do you create a RESTful API endpoint using Flask?\n",
        "\n",
        "     -> You can create a RESTful API endpoint in Flask by using the @app.route() decorator to define the URL, specifying the allowed HTTP methods, and returning data in JSON format with the jsonify function.\n",
        "\n",
        "15. What is the purpose of Flask's jsonify() function?\n",
        "\n",
        "     -> The purpose of Flask's jsonify() function is to simplify the creation of JSON HTTP responses. It converts a Python dictionary, or other JSON-serializable object, into a Flask Response object with the correct Content-Type header set to application/json. This tells the client (like a web browser or a mobile app) that the response body is formatted as JSON.\n",
        "\n",
        "16. Explain Flask's url_for() function.\n",
        "\n",
        "     -> The url_for() function in Flask is used to dynamically build a URL for a specific function. Instead of hard-coding URLs in your code and templates, url_for() allows you to reference view functions by name, making your application more flexible and resilient to changes.\n",
        "\n",
        "17. How does Flask handle static files (CSS, JavaScript, etc.)?\n",
        "\n",
        "     -> Flask serves static files like CSS, JavaScript, and images through a built-in mechanism that uses a special static directory. During development, Flask handles these requests automatically, and in production, a dedicated web server like Nginx or Apache is typically configured to serve them for better performance.\n",
        "\n",
        "18. What is an API specification, and how does it help in building a Flask API?\n",
        "\n",
        "     -> An API specification is a standardized, machine-readable document that serves as a blueprint for an API. It formally describes all aspects of the API, such as its endpoints, allowed HTTP methods, request and response formats, parameters, authentication methods, and error handling. The most popular specification is the OpenAPI Specification (OAS), formerly known as Swagger.\n",
        "\n",
        "19. What are HTTP status codes, and why are they important in a Flask API?\n",
        "\n",
        "     -> HTTP status codes are three-digit numbers returned by a server to indicate the outcome of a client's request. In a Flask API, they are crucial for:\n",
        "\n",
        "- Clear Communication: They provide a universal language for the API to signal success (200 OK, 201 Created), client-side errors (400 Bad Request, 404 Not Found), or server-side issues (500 Internal Server Error).\n",
        "\n",
        "- Troubleshooting: Consistent and correct status codes help developers quickly diagnose problems, differentiating between issues caused by the client's request versus the server's internal logic.\n",
        "\n",
        "- Client Automation: Client applications can be programmed to automatically handle different responses. For example, an app might show a user-friendly error message for a 404 or retry a request after a delay for a 503 Service Unavailable.\n",
        "\n",
        "- Enhanced User Experience: By translating status codes into meaningful feedback, the API empowers the client to provide a better user experience. For instance, an incorrect password might return a 401 Unauthorized.\n",
        "\n",
        "20. How do you handle POST requests in Flask?\n",
        "\n",
        "     -> To handle a POST request in Flask, you follow these steps:\n",
        "\n",
        "- Specify the POST method: Add methods=['POST'] to the @app.route() decorator for the view function that will handle the request.\n",
        "\n",
        "- Check the method: Use if request.method == 'POST': inside your function to differentiate between POST and other request types, like GET.\n",
        "\n",
        "- Access the data: Use the request object to get the data submitted by the client:\n",
        "  - Form data: For HTML forms, use request.form['field_name'].\n",
        "  - JSON data: For APIs, use request.get_json() or request.json to get the body.\n",
        "\n",
        "- Process the data: Use the extracted data to perform an action, such as saving it to a database.\n",
        "\n",
        "- Return a response: Send a success message, a redirection, or a JSON response to the client. A 201 Created status code is appropriate for new resources.\n",
        "\n",
        "21. How would you secure a Flask API?\n",
        "\n",
        "     -> Securing a Flask API involves a multi-layered approach:\n",
        "\n",
        "- Authentication and Authorization:\n",
        "\n",
        "   - Use Flask-JWT-Extended for stateless, token-based authentication.\n",
        "   - Use API keys for machine-to-machine access.\n",
        "   - Implement OAuth 2.0 for third-party logins.\n",
        "\n",
        "- Input Validation:\n",
        "\n",
        "   - Never trust user input. Use a library like Marshmallow for validation.\n",
        "   - Use an ORM like SQLAlchemy to prevent SQL injection.\n",
        "\n",
        "- Secure Practices:\n",
        "\n",
        "   - Enforce HTTPS to encrypt data in transit.\n",
        "   - Store secrets in environment variables, not in code.\n",
        "   - Disable debug mode in production.\n",
        "\n",
        "- Mitigate Attacks:\n",
        "\n",
        "   - Control access with Flask-CORS.\n",
        "   - Use Flask-Limiter to prevent brute-force attacks.\n",
        "   - Use Flask-WTF for CSRF protection where needed.\n",
        "\n",
        "- Secure Deployment:\n",
        "\n",
        "   - Use a production WSGI server (Gunicorn, uWSGI) behind a web server (Nginx).\n",
        "   - Keep all dependencies updated.\n",
        "\n",
        "22. What is the significance of the Flask-RESTful extension?\n",
        "\n",
        "     -> The Flask-RESTful extension simplifies and structures the process of building RESTful APIs in Flask, particularly for larger or more complex projects. While you can create APIs with vanilla Flask, Flask-RESTful provides helpful abstractions that reduce boilerplate code and ensure your API design adheres to RESTful principles.\n",
        "\n",
        "23. What is the role of Flask's session object?\n",
        "\n",
        "     -> The session object in Flask provides a way to store user-specific information across multiple HTTP requests, enabling your web application to maintain state and context for a particular user. It works like a dictionary, allowing you to save and retrieve key-value pairs of data during a user's visit."
      ],
      "metadata": {
        "id": "oW93igCj1_Na"
      }
    },
    {
      "cell_type": "markdown",
      "source": [
        "# Practical"
      ],
      "metadata": {
        "id": "ubMoQHh6a0DH"
      }
    },
    {
      "cell_type": "markdown",
      "source": [
        "1. How do you create a basic Flask application?"
      ],
      "metadata": {
        "id": "T4rBiDuNa5MB"
      }
    },
    {
      "cell_type": "code",
      "execution_count": 1,
      "metadata": {
        "id": "wgwdWUCy0f9B",
        "colab": {
          "base_uri": "https://localhost:8080/"
        },
        "outputId": "bd354870-5868-471b-e3bc-90403ced5dd9"
      },
      "outputs": [
        {
          "output_type": "stream",
          "name": "stdout",
          "text": [
            " * Serving Flask app '__main__'\n",
            " * Debug mode: on\n"
          ]
        },
        {
          "output_type": "stream",
          "name": "stderr",
          "text": [
            "INFO:werkzeug:\u001b[31m\u001b[1mWARNING: This is a development server. Do not use it in a production deployment. Use a production WSGI server instead.\u001b[0m\n",
            " * Running on http://127.0.0.1:5000\n",
            "INFO:werkzeug:\u001b[33mPress CTRL+C to quit\u001b[0m\n",
            "INFO:werkzeug: * Restarting with watchdog (inotify)\n"
          ]
        }
      ],
      "source": [
        "from flask import Flask, render_template_string\n",
        "\n",
        "app = Flask(__name__)\n",
        "\n",
        "# 🔹 Home page\n",
        "@app.route('/')\n",
        "def home():\n",
        "    return render_template_string(\"\"\"\n",
        "        <h1>Welcome to Flask!</h1>\n",
        "        <p><a href=\"/about\">Go to About</a></p>\n",
        "    \"\"\")\n",
        "\n",
        "# 🔹 About page\n",
        "@app.route('/about')\n",
        "def about():\n",
        "    return render_template_string(\"\"\"\n",
        "        <h1>About Page</h1>\n",
        "        <p>This is a basic all-in-one Flask app.</p>\n",
        "        <p><a href=\"/\">Back Home</a></p>\n",
        "    \"\"\")\n",
        "\n",
        "# 🔹 Dynamic route example\n",
        "@app.route('/hello/<name>')\n",
        "def hello(name):\n",
        "    return f\"<h1>Hello, {name.capitalize()}!</h1>\"\n",
        "\n",
        "# 🔹 Run the app\n",
        "if __name__ == '__main__':\n",
        "    app.run(debug=True)\n"
      ]
    },
    {
      "cell_type": "markdown",
      "source": [
        "2. How do you serve static files like images or CSS in Flask?"
      ],
      "metadata": {
        "id": "XIzoIaXBdM-f"
      }
    },
    {
      "cell_type": "code",
      "source": [
        "from flask import Flask\n",
        "\n",
        "# Serves static files from a directory named 'assets' at the URL '/resources/'\n",
        "app = Flask(__name__, static_folder='assets', static_url_path='/resources')\n"
      ],
      "metadata": {
        "id": "gBeXCVhzdUJS"
      },
      "execution_count": 4,
      "outputs": []
    },
    {
      "cell_type": "markdown",
      "source": [
        "3. How do you define different routes with different HTTP methods in Flask?"
      ],
      "metadata": {
        "id": "wHlYbkw1emdW"
      }
    },
    {
      "cell_type": "code",
      "source": [
        "from flask import Flask, request\n",
        "\n",
        "app = Flask(__name__)\n",
        "\n",
        "@app.route('/login', methods=['GET', 'POST'])\n",
        "def login():\n",
        "    if request.method == 'POST':\n",
        "        # Logic to process the POST request (e.g., handle form submission)\n",
        "        return '<h1>Processing login...</h1>'\n",
        "    else:\n",
        "        # Logic to handle the GET request (e.g., show the login form)\n",
        "        return '<h1>Show the login form</h1>'\n"
      ],
      "metadata": {
        "id": "QL62043AeocQ"
      },
      "execution_count": 5,
      "outputs": []
    },
    {
      "cell_type": "markdown",
      "source": [
        "4. How do you render HTML templates in Flask?"
      ],
      "metadata": {
        "id": "VZ4kobcCe8l5"
      }
    },
    {
      "cell_type": "code",
      "source": [
        "# app.py\n",
        "from flask import Flask, render_template\n",
        "\n",
        "app = Flask(__name__)\n",
        "\n",
        "@app.route('/')\n",
        "def home():\n",
        "    user_name = \"Alice\"\n",
        "    favorite_sites = [\"Example.com\", \"Flask.palletsprojects.com\", \"DigitalOcean\"]\n",
        "\n",
        "    # Render the index.html template and pass the data\n",
        "    return render_template('index.html',\n",
        "                           title='Home Page',\n",
        "                           user=user_name,\n",
        "                           sites=favorite_sites)\n",
        "\n",
        "if __name__ == '__main__':\n",
        "    app.run(debug=True)\n"
      ],
      "metadata": {
        "colab": {
          "base_uri": "https://localhost:8080/"
        },
        "id": "alw1n2V2fN3g",
        "outputId": "fda6d70a-21d8-45c0-f7d0-6ae4277dbc4d"
      },
      "execution_count": 8,
      "outputs": [
        {
          "output_type": "stream",
          "name": "stdout",
          "text": [
            " * Serving Flask app '__main__'\n",
            " * Debug mode: on\n"
          ]
        },
        {
          "output_type": "stream",
          "name": "stderr",
          "text": [
            "INFO:werkzeug:\u001b[31m\u001b[1mWARNING: This is a development server. Do not use it in a production deployment. Use a production WSGI server instead.\u001b[0m\n",
            " * Running on http://127.0.0.1:5000\n",
            "INFO:werkzeug:\u001b[33mPress CTRL+C to quit\u001b[0m\n",
            "INFO:werkzeug: * Restarting with watchdog (inotify)\n"
          ]
        }
      ]
    },
    {
      "cell_type": "markdown",
      "source": [
        "5. How can you generate URLs for routes in Flask using url_for?"
      ],
      "metadata": {
        "id": "Xa6PIgB1fTYl"
      }
    },
    {
      "cell_type": "code",
      "source": [
        "from flask import Flask, url_for\n",
        "\n",
        "app = Flask(__name__)\n",
        "\n",
        "@app.route('/')\n",
        "def index():\n",
        "    return '<h1>Home Page</h1>'\n",
        "\n",
        "@app.route('/about')\n",
        "def about():\n",
        "    # In a template or another view, you would use this\n",
        "    home_url = url_for('index')\n",
        "    return f'<h1>About Page</h1><a href=\"{home_url}\">Go Home</a>'"
      ],
      "metadata": {
        "id": "tTooTiq1fYZ6"
      },
      "execution_count": 7,
      "outputs": []
    },
    {
      "cell_type": "markdown",
      "source": [
        "6. How do you handle forms in Flask?"
      ],
      "metadata": {
        "id": "pfzpe7GnftR6"
      }
    },
    {
      "cell_type": "code",
      "source": [
        "from flask import Flask, render_template, redirect, url_for\n",
        "from flask_wtf import FlaskForm\n",
        "from wtforms import StringField, SubmitField\n",
        "from wtforms.validators import DataRequired\n",
        "\n",
        "app = Flask(__name__)\n",
        "app.config['SECRET_KEY'] = 'your-secret-key-here' # Must be a strong, random key\n"
      ],
      "metadata": {
        "colab": {
          "base_uri": "https://localhost:8080/",
          "height": 383
        },
        "id": "jqnP3QqZfw8F",
        "outputId": "de5d8bac-d349-493f-ec4e-164d90210029"
      },
      "execution_count": 9,
      "outputs": [
        {
          "output_type": "error",
          "ename": "ModuleNotFoundError",
          "evalue": "No module named 'flask_wtf'",
          "traceback": [
            "\u001b[0;31m---------------------------------------------------------------------------\u001b[0m",
            "\u001b[0;31mModuleNotFoundError\u001b[0m                       Traceback (most recent call last)",
            "\u001b[0;32m/tmp/ipython-input-1820299965.py\u001b[0m in \u001b[0;36m<cell line: 0>\u001b[0;34m()\u001b[0m\n\u001b[1;32m      1\u001b[0m \u001b[0;32mfrom\u001b[0m \u001b[0mflask\u001b[0m \u001b[0;32mimport\u001b[0m \u001b[0mFlask\u001b[0m\u001b[0;34m,\u001b[0m \u001b[0mrender_template\u001b[0m\u001b[0;34m,\u001b[0m \u001b[0mredirect\u001b[0m\u001b[0;34m,\u001b[0m \u001b[0murl_for\u001b[0m\u001b[0;34m\u001b[0m\u001b[0;34m\u001b[0m\u001b[0m\n\u001b[0;32m----> 2\u001b[0;31m \u001b[0;32mfrom\u001b[0m \u001b[0mflask_wtf\u001b[0m \u001b[0;32mimport\u001b[0m \u001b[0mFlaskForm\u001b[0m\u001b[0;34m\u001b[0m\u001b[0;34m\u001b[0m\u001b[0m\n\u001b[0m\u001b[1;32m      3\u001b[0m \u001b[0;32mfrom\u001b[0m \u001b[0mwtforms\u001b[0m \u001b[0;32mimport\u001b[0m \u001b[0mStringField\u001b[0m\u001b[0;34m,\u001b[0m \u001b[0mSubmitField\u001b[0m\u001b[0;34m\u001b[0m\u001b[0;34m\u001b[0m\u001b[0m\n\u001b[1;32m      4\u001b[0m \u001b[0;32mfrom\u001b[0m \u001b[0mwtforms\u001b[0m\u001b[0;34m.\u001b[0m\u001b[0mvalidators\u001b[0m \u001b[0;32mimport\u001b[0m \u001b[0mDataRequired\u001b[0m\u001b[0;34m\u001b[0m\u001b[0;34m\u001b[0m\u001b[0m\n\u001b[1;32m      5\u001b[0m \u001b[0;34m\u001b[0m\u001b[0m\n",
            "\u001b[0;31mModuleNotFoundError\u001b[0m: No module named 'flask_wtf'",
            "",
            "\u001b[0;31m---------------------------------------------------------------------------\u001b[0;32m\nNOTE: If your import is failing due to a missing package, you can\nmanually install dependencies using either !pip or !apt.\n\nTo view examples of installing some common dependencies, click the\n\"Open Examples\" button below.\n\u001b[0;31m---------------------------------------------------------------------------\u001b[0m\n"
          ],
          "errorDetails": {
            "actions": [
              {
                "action": "open_url",
                "actionText": "Open Examples",
                "url": "/notebooks/snippets/importing_libraries.ipynb"
              }
            ]
          }
        }
      ]
    },
    {
      "cell_type": "markdown",
      "source": [
        "7.  How can you validate form data in Flask?"
      ],
      "metadata": {
        "id": "WoukqGGHgEyd"
      }
    },
    {
      "cell_type": "code",
      "source": [
        "from flask import request, jsonify\n",
        "from marshmallow import Schema, fields, ValidationError\n",
        "\n",
        "# Define a Marshmallow schema for validation\n",
        "class UserSchema(Schema):\n",
        "    username = fields.String(required=True, validate=lambda s: 4 <= len(s) <= 25)\n",
        "    email = fields.Email(required=True)\n",
        "\n",
        "@app.route('/api/register', methods=['POST'])\n",
        "def register_user():\n",
        "    try:\n",
        "        user_data = request.get_json()\n",
        "        UserSchema().load(user_data) # Validate and load data\n",
        "\n",
        "        # Data is valid; process it\n",
        "        return jsonify({\"message\": \"User validated and created\"}), 201\n",
        "    except ValidationError as err:\n",
        "        # Handle validation errors\n",
        "        return jsonify(err.messages), 400"
      ],
      "metadata": {
        "colab": {
          "base_uri": "https://localhost:8080/",
          "height": 383
        },
        "id": "Og3FiPZrgS6j",
        "outputId": "34e3270d-c447-474a-a52b-9a98d44664b9"
      },
      "execution_count": 11,
      "outputs": [
        {
          "output_type": "error",
          "ename": "ModuleNotFoundError",
          "evalue": "No module named 'marshmallow'",
          "traceback": [
            "\u001b[0;31m---------------------------------------------------------------------------\u001b[0m",
            "\u001b[0;31mModuleNotFoundError\u001b[0m                       Traceback (most recent call last)",
            "\u001b[0;32m/tmp/ipython-input-714485266.py\u001b[0m in \u001b[0;36m<cell line: 0>\u001b[0;34m()\u001b[0m\n\u001b[1;32m      1\u001b[0m \u001b[0;32mfrom\u001b[0m \u001b[0mflask\u001b[0m \u001b[0;32mimport\u001b[0m \u001b[0mrequest\u001b[0m\u001b[0;34m,\u001b[0m \u001b[0mjsonify\u001b[0m\u001b[0;34m\u001b[0m\u001b[0;34m\u001b[0m\u001b[0m\n\u001b[0;32m----> 2\u001b[0;31m \u001b[0;32mfrom\u001b[0m \u001b[0mmarshmallow\u001b[0m \u001b[0;32mimport\u001b[0m \u001b[0mSchema\u001b[0m\u001b[0;34m,\u001b[0m \u001b[0mfields\u001b[0m\u001b[0;34m,\u001b[0m \u001b[0mValidationError\u001b[0m\u001b[0;34m\u001b[0m\u001b[0;34m\u001b[0m\u001b[0m\n\u001b[0m\u001b[1;32m      3\u001b[0m \u001b[0;34m\u001b[0m\u001b[0m\n\u001b[1;32m      4\u001b[0m \u001b[0;31m# Define a Marshmallow schema for validation\u001b[0m\u001b[0;34m\u001b[0m\u001b[0;34m\u001b[0m\u001b[0m\n\u001b[1;32m      5\u001b[0m \u001b[0;32mclass\u001b[0m \u001b[0mUserSchema\u001b[0m\u001b[0;34m(\u001b[0m\u001b[0mSchema\u001b[0m\u001b[0;34m)\u001b[0m\u001b[0;34m:\u001b[0m\u001b[0;34m\u001b[0m\u001b[0;34m\u001b[0m\u001b[0m\n",
            "\u001b[0;31mModuleNotFoundError\u001b[0m: No module named 'marshmallow'",
            "",
            "\u001b[0;31m---------------------------------------------------------------------------\u001b[0;32m\nNOTE: If your import is failing due to a missing package, you can\nmanually install dependencies using either !pip or !apt.\n\nTo view examples of installing some common dependencies, click the\n\"Open Examples\" button below.\n\u001b[0;31m---------------------------------------------------------------------------\u001b[0m\n"
          ],
          "errorDetails": {
            "actions": [
              {
                "action": "open_url",
                "actionText": "Open Examples",
                "url": "/notebooks/snippets/importing_libraries.ipynb"
              }
            ]
          }
        }
      ]
    },
    {
      "cell_type": "markdown",
      "source": [
        "8.  How do you manage sessions in Flask?"
      ],
      "metadata": {
        "id": "oyZqdHZ0iWFp"
      }
    },
    {
      "cell_type": "code",
      "source": [
        "from flask import Flask\n",
        "app = Flask(__name__)\n",
        "@app.route('/')\n",
        "def hello():\n",
        "    return \"Hello, World!\"\n",
        "if __name__ == '__main__':\n",
        "    app.run(debug=True)\n"
      ],
      "metadata": {
        "colab": {
          "base_uri": "https://localhost:8080/"
        },
        "id": "-xev9MXKiaFx",
        "outputId": "77123122-a64e-4056-8b5b-0d4a6aa44297"
      },
      "execution_count": 14,
      "outputs": [
        {
          "output_type": "stream",
          "name": "stdout",
          "text": [
            " * Serving Flask app '__main__'\n",
            " * Debug mode: on\n"
          ]
        },
        {
          "output_type": "stream",
          "name": "stderr",
          "text": [
            "INFO:werkzeug:\u001b[31m\u001b[1mWARNING: This is a development server. Do not use it in a production deployment. Use a production WSGI server instead.\u001b[0m\n",
            " * Running on http://127.0.0.1:5000\n",
            "INFO:werkzeug:\u001b[33mPress CTRL+C to quit\u001b[0m\n",
            "INFO:werkzeug: * Restarting with watchdog (inotify)\n"
          ]
        }
      ]
    },
    {
      "cell_type": "markdown",
      "source": [
        "9. How do you redirect to a different route in Flask?"
      ],
      "metadata": {
        "id": "K7V83LJRiqCR"
      }
    },
    {
      "cell_type": "code",
      "source": [
        "from flask import Flask, redirect, url_for\n",
        "\n",
        "app = Flask(__name__)\n",
        "\n",
        "# This is the target route\n",
        "@app.route('/')\n",
        "def home():\n",
        "    return '<h1>Welcome to the Home Page</h1>'\n",
        "\n",
        "# This route redirects to the 'home' function\n",
        "@app.route('/redirect_home')\n",
        "def redirect_home():\n",
        "    # Use redirect() with url_for() to redirect to the 'home' function\n",
        "    return redirect(url_for('home'))\n",
        "\n",
        "if __name__ == '__main__':\n",
        "    app.run(debug=True)\n"
      ],
      "metadata": {
        "colab": {
          "base_uri": "https://localhost:8080/"
        },
        "id": "q2canSNuiuOG",
        "outputId": "a0a61735-aed2-40a2-8904-4d6b0e0b63a5"
      },
      "execution_count": 13,
      "outputs": [
        {
          "output_type": "stream",
          "name": "stdout",
          "text": [
            " * Serving Flask app '__main__'\n",
            " * Debug mode: on\n"
          ]
        },
        {
          "output_type": "stream",
          "name": "stderr",
          "text": [
            "INFO:werkzeug:\u001b[31m\u001b[1mWARNING: This is a development server. Do not use it in a production deployment. Use a production WSGI server instead.\u001b[0m\n",
            " * Running on http://127.0.0.1:5000\n",
            "INFO:werkzeug:\u001b[33mPress CTRL+C to quit\u001b[0m\n",
            "INFO:werkzeug: * Restarting with watchdog (inotify)\n"
          ]
        }
      ]
    },
    {
      "cell_type": "markdown",
      "source": [
        "10. How do you handle errors in Flask (e.g., 404)?"
      ],
      "metadata": {
        "id": "aVz3txBFjDPi"
      }
    },
    {
      "cell_type": "code",
      "source": [
        "from flask import Flask, render_template\n",
        "\n",
        "app = Flask(__name__)\n",
        "\n",
        "@app.errorhandler(404)\n",
        "def page_not_found(e):\n",
        "    return render_template('404.html'), 404\n",
        "\n",
        "@app.route('/')\n",
        "def home():\n",
        "    return '<h1>Welcome!</h1>'\n",
        "\n",
        "if __name__ == '__main__':\n",
        "    app.run(debug=True)\n"
      ],
      "metadata": {
        "id": "j_H6HSOhu81V"
      },
      "execution_count": null,
      "outputs": []
    },
    {
      "cell_type": "markdown",
      "source": [
        "11. How do you structure a Flask app using Blueprints?"
      ],
      "metadata": {
        "id": "MndU81MlvEu_"
      }
    },
    {
      "cell_type": "code",
      "source": [
        "# /app/__init__.py\n",
        "from flask import Flask\n",
        "\n",
        "def create_app(test_config=None):\n",
        "    # create and configure the app\n",
        "    app = Flask(__name__, instance_relative_config=True)\n",
        "\n",
        "    # ... configuration logic\n",
        "\n",
        "    # Register blueprints\n",
        "    from .auth import auth as auth_blueprint\n",
        "    app.register_blueprint(auth_blueprint, url_prefix='/auth')\n",
        "\n",
        "    from .blog import blog as blog_blueprint\n",
        "    app.register_blueprint(blog_blueprint)\n",
        "\n",
        "    return app\n"
      ],
      "metadata": {
        "id": "35U8AHLTvWmf"
      },
      "execution_count": null,
      "outputs": []
    },
    {
      "cell_type": "markdown",
      "source": [
        "12. How do you define a custom Jinja filter in Flask?"
      ],
      "metadata": {
        "id": "J5vC8jnZvidf"
      }
    },
    {
      "cell_type": "code",
      "source": [
        "# app.py\n",
        "from flask import Flask, render_template\n",
        "import datetime\n",
        "\n",
        "app = Flask(__name__)\n",
        "\n",
        "# Filter function defined separately\n",
        "def human_datetime_filter(datetime_obj):\n",
        "    return datetime_obj.strftime(\"%B %d, %Y\")\n",
        "\n",
        "# Register the filter\n",
        "app.jinja_env.filters['human_date'] = human_datetime_filter"
      ],
      "metadata": {
        "id": "mW6SNSjGvoKZ"
      },
      "execution_count": null,
      "outputs": []
    },
    {
      "cell_type": "markdown",
      "source": [
        "13. How can you redirect with query parameters in Flask?"
      ],
      "metadata": {
        "id": "uXmHgDOMv5QI"
      }
    },
    {
      "cell_type": "code",
      "source": [
        "@app.route('/search_results')\n",
        "def search_results():\n",
        "    search_terms = request.args.getlist('q')\n",
        "    return f\"<h1>Search Results</h1><p>Your search terms: {', '.join(search_terms)}</p>\"\n",
        "\n",
        "@app.route('/search')\n",
        "def search():\n",
        "    # Redirects to /search_results?q=flask&q=tutorial\n",
        "    return redirect(url_for('search_results', q=['flask', 'tutorial']))\n"
      ],
      "metadata": {
        "id": "Ni1PlavKv9ih"
      },
      "execution_count": null,
      "outputs": []
    },
    {
      "cell_type": "markdown",
      "source": [
        "14. How do you return JSON responses in Flask?"
      ],
      "metadata": {
        "id": "h1NPwEYmw9uj"
      }
    },
    {
      "cell_type": "code",
      "source": [
        "from flask import Flask, jsonify\n",
        "\n",
        "app = Flask(__name__)\n",
        "\n",
        "@app.errorhandler(404)\n",
        "def resource_not_found(e):\n",
        "    # Returns a custom JSON error with a 404 status\n",
        "    return jsonify(error=\"Resource not found\"), 404\n",
        "\n",
        "@app.route(\"/api/item/<int:item_id>\")\n",
        "def get_item(item_id):\n",
        "    if item_id != 1:\n",
        "        # Manually abort to trigger the error handler\n",
        "        from flask import abort\n",
        "        abort(404)\n",
        "    return {\"item\": f\"Item {item_id}\"}, 200\n"
      ],
      "metadata": {
        "id": "OIjre1AKxB1z"
      },
      "execution_count": null,
      "outputs": []
    },
    {
      "cell_type": "markdown",
      "source": [
        "15. How do you capture URL parameters in Flask?"
      ],
      "metadata": {
        "id": "Rw9NKi6OxUUC"
      }
    },
    {
      "cell_type": "code",
      "source": [
        "from flask import Flask, request\n",
        "\n",
        "app = Flask(__name__)\n",
        "\n",
        "# Example URL: /search?query=flask&page=1\n",
        "@app.route('/search')\n",
        "def search():\n",
        "    # Use .get() to avoid a KeyError if a parameter is missing\n",
        "    search_query = request.args.get('query')\n",
        "    page = request.args.get('page', default=1, type=int) # with a default value and type\n",
        "    return f\"Searching for '{search_query}' on page {page}\"\n"
      ],
      "metadata": {
        "id": "b2lCXvuhxYD1"
      },
      "execution_count": null,
      "outputs": []
    }
  ]
}